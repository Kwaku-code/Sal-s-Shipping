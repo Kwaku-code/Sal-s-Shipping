{
 "cells": [
  {
   "cell_type": "code",
   "execution_count": null,
   "metadata": {},
   "outputs": [],
   "source": [
    "weight = 0\n",
    "cost = \"\"\n",
    "#Ground Shipping\n",
    "if weight <= 2:\n",
    "  cost = weight * 1.50 + 20\n",
    "elif weight > 2 and weight <= 6:\n",
    "  cost = weight * 3.00 + 20\n",
    "elif weight > 6 and weight <= 10:\n",
    "  cost = weight * 4.00 + 20\n",
    "elif weight > 10:\n",
    "  cost = weight * 4.75 + 20\n",
    "print(cost)\n",
    "premium_cost_ground_shipping = 125\n",
    "print(premium_cost_ground_shipping)\n",
    "#Drone Shipping\n",
    "if weight <= 2:\n",
    "  cost = weight * 4.50 + 0.00\n",
    "elif weight > 2 and weight <= 6:\n",
    "  cost = weight * 9.00 + 0.00\n",
    "elif weight > 6 and weight <= 10:\n",
    "  cost = weight * 12.00 + 0.00\n",
    "elif weight > 10:\n",
    "  cost = weight * 14.25 + 0.00\n",
    "print(cost)\n"
   ]
  }
 ],
 "metadata": {
  "kernelspec": {
   "display_name": "Python 3",
   "language": "python",
   "name": "python3"
  },
  "language_info": {
   "codemirror_mode": {
    "name": "ipython",
    "version": 3
   },
   "file_extension": ".py",
   "mimetype": "text/x-python",
   "name": "python",
   "nbconvert_exporter": "python",
   "pygments_lexer": "ipython3",
   "version": "3.7.3"
  }
 },
 "nbformat": 4,
 "nbformat_minor": 2
}
